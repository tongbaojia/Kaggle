{
 "cells": [
  {
   "cell_type": "markdown",
   "metadata": {},
   "source": [
    "# Titianic Kaggale\n",
    "\n",
    "## Link: [Kaggle](https://www.kaggle.com/c/titanic)\n"
   ]
  },
  {
   "cell_type": "markdown",
   "metadata": {},
   "source": [
    "## Loading Libraries"
   ]
  },
  {
   "cell_type": "code",
   "execution_count": null,
   "metadata": {},
   "outputs": [],
   "source": [
    "import pandas as pd\n",
    "import numpy as np\n",
    "import re\n",
    "import sklearn\n",
    "import xgboost as xgb\n",
    "import seaborn as sns\n",
    "import matplotlib.pyplot as plt\n",
    "import copy\n",
    "plt.rcParams['figure.figsize'] = (12.0, 10.0) # set default size of plots\n",
    "%matplotlib inline\n",
    "\n",
    "# Going to use these 5 base models for the stacking\n",
    "from sklearn.ensemble import (RandomForestClassifier, AdaBoostClassifier, \n",
    "                              GradientBoostingClassifier, ExtraTreesClassifier)\n",
    "from sklearn.svm import SVC\n",
    "from sklearn.cross_validation import KFold\n",
    "\n",
    "from sklearn.model_selection import train_test_split\n",
    "from sklearn import metrics\n",
    "from sklearn.externals import joblib\n",
    "from sklearn.model_selection import RandomizedSearchCV\n",
    "from sklearn.model_selection import GridSearchCV\n",
    "\n",
    "## My libs\n",
    "from tqdm import tqdm\n",
    "from xgboost import XGBClassifier\n",
    "import xgboost as xgb"
   ]
  },
  {
   "cell_type": "markdown",
   "metadata": {},
   "source": [
    "## Load Data"
   ]
  },
  {
   "cell_type": "code",
   "execution_count": 504,
   "metadata": {},
   "outputs": [],
   "source": [
    "# Load in the train and test datasets\n",
    "Train = pd.read_csv('Data/train.csv')\n",
    "Test = pd.read_csv('Data/test.csv')\n",
    "\n",
    "# Store our passenger ID for easy access\n",
    "PassengerId = Test['PassengerId']\n",
    "\n",
    "## head\n",
    "#Train.head(10)\n",
    "# '''\n",
    "# Variable\tDefinition\tKey\n",
    "# survival\tSurvival\t0 = No, 1 = Yes\n",
    "# pclass\tTicket class\t1 = 1st, 2 = 2nd, 3 = 3rd\n",
    "# sex\tSex\t\n",
    "# Age\tAge in years\t\n",
    "# sibsp\t# of siblings / spouses aboard the Titanic\t\n",
    "# parch\t# of parents / children aboard the Titanic\t\n",
    "# ticket\tTicket number\t\n",
    "# fare\tPassenger fare\t\n",
    "# cabin\tCabin number\t\n",
    "# embarked\tPort of Embarkation\n",
    "# '''"
   ]
  },
  {
   "cell_type": "markdown",
   "metadata": {},
   "source": [
    "## Data Inspection"
   ]
  },
  {
   "cell_type": "code",
   "execution_count": 506,
   "metadata": {},
   "outputs": [
    {
     "name": "stdout",
     "output_type": "stream",
     "text": [
      "<class 'pandas.core.frame.DataFrame'>\n",
      "RangeIndex: 891 entries, 0 to 890\n",
      "Data columns (total 12 columns):\n",
      "PassengerId    891 non-null int64\n",
      "Survived       891 non-null int64\n",
      "Pclass         891 non-null int64\n",
      "Name           891 non-null object\n",
      "Sex            891 non-null object\n",
      "Age            714 non-null float64\n",
      "SibSp          891 non-null int64\n",
      "Parch          891 non-null int64\n",
      "Ticket         891 non-null object\n",
      "Fare           891 non-null float64\n",
      "Cabin          204 non-null object\n",
      "Embarked       889 non-null object\n",
      "dtypes: float64(2), int64(5), object(5)\n",
      "memory usage: 83.6+ KB\n"
     ]
    }
   ],
   "source": [
    "Train.info()"
   ]
  },
  {
   "cell_type": "code",
   "execution_count": 435,
   "metadata": {},
   "outputs": [
    {
     "data": {
      "image/png": "[encoded data removed]",
      "text/plain": [
       "<matplotlib.figure.Figure at 0x11e8c6048>"
      ]
     },
     "metadata": {},
     "output_type": "display_data"
    }
   ],
   "source": [
    "#print(Train.columns, test.columns)\n",
    "#print (Train[['Pclass', 'Survived']].groupby(['Pclass'], as_index=False).mean())\n",
    "#print (Train[[\"Sex\", \"Survived\"]].groupby(['Sex'], as_index=False).mean())\n",
    "#print (Train[[\"Age\", \"Survived\"]].groupby(['Age'], as_index=False).mean())\n",
    "#print (Train[[\"SibSp\", \"Survived\"]].groupby(['SibSp'], as_index=False).mean())\n",
    "#print (Train[[\"Parch\", \"Survived\"]].groupby(['Parch'], as_index=False).mean())\n",
    "#print (Train[[\"Embarked\", \"Survived\"]].groupby(['Embarked'], as_index=False).mean())\n",
    "#print (Train[[\"Cabin\", \"Survived\"]].groupby(['Cabin'], as_index=False).mean())\n",
    "plt.clf()\n",
    "pltstr = \"Age\"\n",
    "Train.loc[Train['Survived'] == 1, pltstr].hist(bins=np.arange(0, 80, 2), alpha=0.5, label=\"Live\")\n",
    "Train.loc[Train['Survived'] == 0, pltstr].hist(bins=np.arange(0, 80, 2), alpha=0.5, label=\"Die\")\n",
    "plt.legend()\n",
    "plt.show()"
   ]
  },
  {
   "cell_type": "code",
   "execution_count": 436,
   "metadata": {},
   "outputs": [],
   "source": [
    "# Define function to extract titles from passenger names\n",
    "def get_title(name):\n",
    "    title_search = re.search(' ([A-Za-z]+)\\.', name)\n",
    "    # If the title exists, extract and return it.\n",
    "    if title_search:\n",
    "        return title_search.group(1)\n",
    "    return \"\"\n",
    "\n",
    "def get_number(name):\n",
    "    if \" \" in name:\n",
    "        s = name.split(\" \")[1]\n",
    "    else:\n",
    "        s = name\n",
    "    num_search = re.findall('\\d+', s)\n",
    "    # If the title exists, extract and return it.\n",
    "    if num_search:\n",
    "        return int(num_search[0])\n",
    "    return 0\n",
    "\n",
    "# Train['tickn'] = Train['Ticket'].apply(get_number)\n",
    "# #print (Train[[\"tickn\", \"Survived\"]].groupby(['tickn'], as_index=False).mean())\n",
    "# Train.loc[Train['Survived'] == 1, 'tickn'].hist(bins=np.arange(0, 40000, 1000), alpha=0.5, label=\"live\")\n",
    "# Train.loc[Train['Survived'] == 0, 'tickn'].hist(bins=np.arange(0, 40000, 1000), alpha=0.5, label=\"die\")\n",
    "# plt.legend()\n",
    "# plt.show()"
   ]
  },
  {
   "cell_type": "code",
   "execution_count": 553,
   "metadata": {},
   "outputs": [
    {
     "name": "stderr",
     "output_type": "stream",
     "text": [
      "/Users/renormalization/anaconda/lib/python3.6/site-packages/ipykernel_launcher.py:51: SettingWithCopyWarning: \n",
      "A value is trying to be set on a copy of a slice from a DataFrame\n",
      "\n",
      "See the caveats in the documentation: http://pandas.pydata.org/pandas-docs/stable/indexing.html#indexing-view-versus-copy\n"
     ]
    }
   ],
   "source": [
    "full_data = [copy.deepcopy(Train), copy.deepcopy(Test)]\n",
    "\n",
    "for dataset in full_data:\n",
    "    \n",
    "    # Gives the length of the name\n",
    "    dataset['Name_length'] = dataset['Name'].apply(len)\n",
    "    \n",
    "    # Feature that tells whether a passenger had a cabin on the Titanic\n",
    "    #dataset['Has_Cabin'] = dataset[\"Cabin\"].apply(lambda x: 0 if type(x) == str else 1)\n",
    "    dataset['CabinClass'] = dataset['Cabin'].fillna(\"Z0\").apply(lambda x: x.replace(\" \", \"\")[0])\n",
    "    dataset['CabinClass'] = dataset['CabinClass'].map( \n",
    "        {'A': 0, 'B': 1, 'C': 2, 'D': 3, 'E':4, 'F':5, \"G\":6, \"T\":7, \"Z\":7}).astype(int)\n",
    "    dataset['CabinNumber'] = dataset['Cabin'].fillna(\"Z0\").apply(lambda x: int(x.split(\" \")[0][1:] + \"0\")/10)\n",
    "    \n",
    "    # Mapping CabinNumber\n",
    "    dataset.loc[ dataset['CabinNumber'] <= 0, 'CabinNumber']                               = 0\n",
    "    dataset.loc[ (dataset['CabinNumber'] > 0) & (dataset['CabinNumber'] <= 10), 'CabinNumber']  = 1\n",
    "    dataset.loc[ (dataset['CabinNumber'] > 10) & (dataset['CabinNumber'] <= 40), 'CabinNumber']  = 2\n",
    "    dataset.loc[ (dataset['CabinNumber'] > 40), 'CabinNumber']  = 3\n",
    "    dataset['CabinNumber'] = dataset['CabinNumber'].astype(int)\n",
    "    \n",
    "    # Feature engineering steps taken from Sina\n",
    "    # Create new feature FamilySize as a combination of SibSp and Parch\n",
    "    dataset['FamilySize'] = dataset['SibSp'] + dataset['Parch'] + 1\n",
    "    dataset['FamilySize'] = dataset['FamilySize'].apply(lambda x: 5 if (x >=5 and x < 8) else x) ##group family 5,6,7 to 5\n",
    "    dataset['FamilySize'] = dataset['FamilySize'].apply(lambda x: 6 if x >= 8 else x) ##no family > 8 survived\n",
    "    \n",
    "#     # Create new feature IsAlone from FamilySize\n",
    "#     dataset['IsAlone'] = 0\n",
    "#     dataset.loc[dataset['FamilySize'] == 1, 'IsAlone'] = 1\n",
    "\n",
    "    # Remove all NULLS in the Embarked column\n",
    "    dataset['Embarked'] = dataset['Embarked'].fillna('Z')\n",
    "\n",
    "    # Create a new feature CategoricalFare\n",
    "    # Remove all NULLS in the Fare column and \n",
    "    # Maybe not Median?\n",
    "    dataset['Fare'] = dataset['Fare'].fillna(0)\n",
    "    dataset['CategoricalFare'] = pd.qcut(dataset['Fare'], 4)\n",
    "\n",
    "    # Create a New feature of ticket number\n",
    "    dataset['TickN'] = dataset['Ticket'].apply(get_number)\n",
    "    dataset['TickN'] = dataset['TickN'] // 10000\n",
    "    \n",
    "    # Create a New feature CategoricalAge\n",
    "    # This could be engineered?\n",
    "    age_avg = dataset['Age'].mean()\n",
    "    age_std = dataset['Age'].std()\n",
    "    age_null_count = dataset['Age'].isnull().sum()\n",
    "    age_null_random_list = np.random.randint(age_avg - age_std, age_avg + age_std, size=age_null_count)\n",
    "    dataset['Age'][np.isnan(dataset['Age'])] = age_null_random_list\n",
    "    dataset['Age'] = dataset['Age'].astype(int)\n",
    "    dataset['CategoricalAge'] = pd.cut(dataset['Age'], 5)\n",
    "    \n",
    "    # Create a new feature Title, containing the titles of passenger names\n",
    "    dataset['Title'] = dataset['Name'].apply(get_title)\n",
    "    # Group all non-common titles into one single grouping \"Rare\"\n",
    "    dataset['Title'] = dataset['Title'].replace(['Lady', 'Countess','Capt', 'Col','Don', 'Dr', 'Major', 'Rev', 'Sir', 'Jonkheer', 'Dona'], 'Rare')\n",
    "    dataset['Title'] = dataset['Title'].replace('Mlle', 'Miss')\n",
    "    dataset['Title'] = dataset['Title'].replace('Ms', 'Miss')\n",
    "    dataset['Title'] = dataset['Title'].replace('Mme', 'Mrs')\n",
    "\n",
    "    # Mapping Sex\n",
    "    dataset['Sex'] = dataset['Sex'].map( {'female': 0, 'male': 1, '': 2} ).astype(int)\n",
    "    \n",
    "    # Mapping titles\n",
    "    title_mapping = {\"Mr\": 1, \"Miss\": 2, \"Mrs\": 3, \"Master\": 4, \"Rare\": 5}\n",
    "    dataset['Title'] = dataset['Title'].map(title_mapping)\n",
    "    \n",
    "    # Mapping Embarked\n",
    "    dataset['Embarked'] = dataset['Embarked'].map( {'S': 0, 'C': 1, 'Q': 2, 'Z': 3} ).astype(int)\n",
    "    \n",
    "    # Mapping Fare\n",
    "    dataset.loc[ dataset['Fare'] == 0, 'Fare']                                  = 0\n",
    "    dataset.loc[(dataset['Fare'] > 0) & (dataset['Fare'] <= 7.91), 'Fare']      = 1\n",
    "    dataset.loc[(dataset['Fare'] > 7.91) & (dataset['Fare'] <= 14.454), 'Fare'] = 2\n",
    "    dataset.loc[(dataset['Fare'] > 14.454) & (dataset['Fare'] <= 31), 'Fare']   = 3\n",
    "    dataset.loc[(dataset['Fare'] > 31) & (dataset['Fare'] <= 100), 'Fare']      = 4\n",
    "    dataset.loc[(dataset['Fare'] > 100), 'Fare']                                = 5\n",
    "    dataset['Fare'] = dataset['Fare'].astype(int)\n",
    "    \n",
    "    # Mapping Age\n",
    "    dataset.loc[ dataset['Age'] <= 4, 'Age']                           = 0\n",
    "    dataset.loc[(dataset['Age'] > 4) & (dataset['Age'] <= 16), 'Age']  = 1\n",
    "    dataset.loc[(dataset['Age'] > 16) & (dataset['Age'] <= 26), 'Age'] = 2\n",
    "    dataset.loc[(dataset['Age'] > 26) & (dataset['Age'] <= 48), 'Age'] = 3\n",
    "    dataset.loc[(dataset['Age'] > 48) & (dataset['Age'] <= 64), 'Age'] = 4\n",
    "    dataset.loc[ dataset['Age'] > 64, 'Age'] = 5"
   ]
  },
  {
   "cell_type": "code",
   "execution_count": 554,
   "metadata": {},
   "outputs": [],
   "source": [
    "## Data cleaining; only for training!\n",
    "full_data[0] = full_data[0].loc[full_data[0][\"Fare\"] >  0] ##clean those who didn't pay\n",
    "#full_data[0].loc[full_data[0][\"Fare\"] >= 0][[\"Fare\", \"Survived\"]].groupby(['Fare'], as_index=False).mean()"
   ]
  },
  {
   "cell_type": "code",
   "execution_count": 555,
   "metadata": {},
   "outputs": [],
   "source": [
    "# Feature selection\n",
    "drop_elements = ['PassengerId', 'Name', 'Ticket', 'Cabin', 'SibSp', 'Parch', 'CategoricalAge', 'CategoricalFare']\n",
    "for dataset in full_data:\n",
    "    dataset.drop(drop_elements, axis = 1, inplace=True)\n",
    "    #print(dataset.head(3))"
   ]
  },
  {
   "cell_type": "code",
   "execution_count": 556,
   "metadata": {},
   "outputs": [
    {
     "name": "stdout",
     "output_type": "stream",
     "text": [
      "(876, 12) (418, 11)\n"
     ]
    }
   ],
   "source": [
    "train = full_data[0]\n",
    "test  = full_data[1]\n",
    "print(train.shape, test.shape)"
   ]
  },
  {
   "cell_type": "code",
   "execution_count": 557,
   "metadata": {},
   "outputs": [
    {
     "data": {
      "text/plain": [
       "<matplotlib.figure.Figure at 0x11cd298d0>"
      ]
     },
     "metadata": {},
     "output_type": "display_data"
    },
    {
     "data": {
      "image/png": "[encoded data removed]",
      "text/plain": [
       "<matplotlib.figure.Figure at 0x11cd29908>"
      ]
     },
     "metadata": {},
     "output_type": "display_data"
    }
   ],
   "source": [
    "colormap = plt.cm.jet\n",
    "plt.clf()\n",
    "plt.figure(figsize=(14,12))\n",
    "plt.title('Pearson Correlation of Features', y=1.05, size=15)\n",
    "sns.heatmap(train.astype(float).corr(),linewidths=0.1,vmax=1.0, \n",
    "            square=True, cmap=colormap, linecolor='white', annot=True)\n",
    "plt.show()"
   ]
  },
  {
   "cell_type": "markdown",
   "metadata": {},
   "source": [
    "## Let's XGboost and CV this"
   ]
  },
  {
   "cell_type": "code",
   "execution_count": 558,
   "metadata": {},
   "outputs": [],
   "source": [
    "train_t, val_t = train_test_split(train, train_size=0.9, test_size=0.1)\n",
    "# X_train = train_t.drop(\"Survived\", axis=1)\n",
    "# y_train = train_t[\"Survived\"]\n",
    "# X_val = val_t.drop(\"Survived\", axis=1)\n",
    "# y_val = val_t[\"Survived\"]"
   ]
  },
  {
   "cell_type": "code",
   "execution_count": 693,
   "metadata": {},
   "outputs": [],
   "source": [
    "## A new more systematic approach\n",
    "def modelfit(alg, dtrain, useTrainCV=True, param_grid={}, cv_folds=5, early_stopping_rounds=50):\n",
    "#https://www.analyticsvidhya.com/blog/2016/03/complete-guide-parameter-tuning-xgboost-with-codes-python/\n",
    "#https://www.dataiku.com/learn/guide/code/python/advanced-xgboost-tuning.html\n",
    "    \n",
    "    t_size = 0.9 ##don't split trianing\n",
    "    df_tr_temp, df_vr_temp = train_test_split(dtrain, train_size=t_size, test_size=1 - t_size, shuffle=False)\n",
    "    X_tr_temp = df_tr_temp.drop(\"Survived\", axis=1)\n",
    "    y_tr_temp = df_tr_temp[\"Survived\"]\n",
    "    X_vr_temp = df_vr_temp.drop(\"Survived\", axis=1)\n",
    "    y_vr_temp = df_vr_temp[\"Survived\"]\n",
    "    \n",
    "    if useTrainCV:\n",
    "#         xgb_param = alg.get_xgb_params()\n",
    "#         xgtrain = xgb.DMatrix(dtrain[predictors].values, label=dtrain[\"is_sig\"].values)\n",
    "#         cvresult = xgb.cv(xgb_param, xgtrain, num_boost_round=alg.get_params()['n_estimators'], nfold=cv_folds,\n",
    "#             metrics='auc', early_stopping_rounds=early_stopping_rounds)\n",
    "#         alg.set_params(n_estimators=cvresult.shape[0])\n",
    "        \n",
    "        scoring = {'AUC': 'roc_auc', 'Accuracy': metrics.make_scorer(metrics.accuracy_score)}\n",
    "        \n",
    "        ##Randomized Search CV\n",
    "        gsearch = RandomizedSearchCV(estimator = alg, param_distributions = param_grid, n_iter=50, cv=5, n_jobs=2)\n",
    "        \n",
    "        #Grid search CV\n",
    "        #gsearch = GridSearchCV(estimator = alg, param_grid = param_grid, n_jobs=3, iid=False, cv=5, scoring=scoring, return_train_score=True, refit=\"AUC\")\n",
    "        \n",
    "        ##Search\n",
    "        gsearch.fit(X_tr_temp, y_tr_temp)\n",
    "        \n",
    "#         ##check trend\n",
    "#         results = gsearch.cv_results_\n",
    "#         plt.clf()\n",
    "#         plt.figure(figsize=(13, 13))\n",
    "#         plt.title(\"GridSearchCV evaluating using multiple scorers simultaneously\", fontsize=16)\n",
    "#         plt.xlabel(\"Parameter\")\n",
    "#         plt.ylabel(\"Score\")\n",
    "#         plt.grid()\n",
    "\n",
    "#         ax = plt.axes()\n",
    "#         ax.set_xlim(0, 1)\n",
    "#         ax.set_ylim(0.75, 1)\n",
    "\n",
    "#         # Get the regular numpy array from the MaskedArray\n",
    "#         X_axis = np.array(results['param_' + \"min_child_weight\"].data, dtype=float)\n",
    "\n",
    "#         for scorer, color in zip(sorted(scoring), ['g', 'k']):\n",
    "#             for sample, style in (('train', '--'), ('test', '-')):\n",
    "#                 sample_score_mean = results['mean_%s_%s' % (sample, scorer)]\n",
    "#                 sample_score_std = results['std_%s_%s' % (sample, scorer)]\n",
    "#                 ax.fill_between(X_axis, sample_score_mean - sample_score_std,\n",
    "#                                 sample_score_mean + sample_score_std,\n",
    "#                                 alpha=0.1 if sample == 'test' else 0, color=color)\n",
    "#                 ax.plot(X_axis, sample_score_mean, style, color=color,\n",
    "#                         alpha=1 if sample == 'test' else 0.7,\n",
    "#                         label=\"%s (%s)\" % (scorer, sample))\n",
    "\n",
    "#             best_index = np.nonzero(results['rank_test_%s' % scorer] == 1)[0][0]\n",
    "#             best_score = results['mean_test_%s' % scorer][best_index]\n",
    "\n",
    "#             # Plot a dotted vertical line at the best score for that scorer marked by x\n",
    "#             ax.plot([X_axis[best_index], ] * 2, [0, best_score],\n",
    "#                     linestyle='-.', color=color, marker='x', markeredgewidth=3, ms=8)\n",
    "\n",
    "#             # Annotate the best score for that scorer\n",
    "#             ax.annotate(\"%0.2f\" % best_score,\n",
    "#                         (X_axis[best_index], best_score + 0.005))\n",
    "\n",
    "#         plt.legend(loc=\"best\")\n",
    "#         plt.grid('off')\n",
    "#         plt.show()\n",
    "\n",
    "        ## from the documentation\n",
    "        best_parameters = gsearch.best_params_\n",
    "        score = gsearch.best_score_\n",
    "        print(best_parameters, score)\n",
    "        alg = gsearch.best_estimator_\n",
    "    \n",
    "    ## fit alg\n",
    "    alg.fit(X_tr_temp, y_tr_temp, sample_weight=None, eval_set=[(X_tr_temp, y_tr_temp), (X_vr_temp, y_vr_temp)], eval_metric=\"error\", verbose=False)\n",
    "    \n",
    "    #Predict training set:\n",
    "    tr_predictions = alg.predict(X_tr_temp)\n",
    "    tr_predprob    = alg.predict_proba(X_tr_temp)[:,1]\n",
    "    vr_predictions = alg.predict(X_vr_temp)\n",
    "    vr_predprob    = alg.predict_proba(X_vr_temp)[:,1]\n",
    "        \n",
    "    #Print model report:\n",
    "    print(\"\\nModel Report\")\n",
    "    print(\"Train Accuracy : %.4g\" % metrics.accuracy_score(y_tr_temp.values, tr_predictions))\n",
    "    print(\"Train AUC Score (Train): %f\" % metrics.roc_auc_score(y_tr_temp, tr_predprob))\n",
    "    #Validation report\n",
    "    print(\"Val Accuracy : %.4g\" % metrics.accuracy_score(y_vr_temp.values, vr_predictions))\n",
    "    print(\"Val AUC Score (Val): %f\" % metrics.roc_auc_score(y_vr_temp, vr_predprob))\n",
    "    \n",
    "    return alg"
   ]
  },
  {
   "cell_type": "code",
   "execution_count": 694,
   "metadata": {},
   "outputs": [],
   "source": [
    "def training(df, name=\"xgb_temp\", optimize=False):\n",
    "    \n",
    "    param_grid = {\n",
    "            'learning_rate': np.arange(1e-3, 1e-2, 1e-3), #np.arange(0.001, 0.3, 0.005), ##0.026\n",
    "            'max_depth': np.arange(3, 8, 1), ##prefer smaller values, 4\n",
    "            'gamma' : np.arange(0.006, 0.01, 0.001), ##insensitive\n",
    "            'n_estimators' : np.arange(30, 100, 10), ##best around 75\n",
    "            'colsample_bytree': [.6, .7, .8], ##best 1\n",
    "            'reg_alpha' : np.arange(0.2, 0.4, 0.05), ##insensitive\n",
    "            'subsample' : [.5, .6, .7, ], ##best 1\n",
    "            'min_child_weight' : [.5, .6, .7, .8],\n",
    "    }\n",
    "    \n",
    "    if optimize:\n",
    "        xgb_temp = XGBClassifier(objective= 'binary:logistic')\n",
    "        xgb_temp = modelfit(xgb_temp, df, param_grid=param_grid)\n",
    "        #joblib.dump(param_grid.best_estimator_, name + \".parlib.dat\")\n",
    "    else:\n",
    "        xgb_temp = XGBClassifier(\n",
    "            max_depth = 4, #Maximum tree depth for base learners.\n",
    "            learning_rate = 1e-7, #Boosting learning rate (XGBoost's \"eta\")\n",
    "            n_estimators= 25, ## Number of boosted trees, CV doesn't change after ~ 90\n",
    "            ##silent = False, ##print messages or not\n",
    "            objective= 'binary:logistic',\n",
    "            nthread=-1,\n",
    "            gamma=0.01, #Minimum loss reduction required to make a further partition on a leaf node of the tree.\n",
    "            min_child_weight=1, # Minimum sum of instance weight(hessian) needed in a child.\n",
    "            scale_pos_weight=1,\n",
    "            reg_alpha=0.2,\n",
    "            reg_lambda=0.1,\n",
    "            subsample=0.7, #Subsample ratio of the training instance.\n",
    "            colsample_bytree = 0.7, #Subsample ratio of columns when constructing each tree.\n",
    "            seed=24)\n",
    "        xgb_temp = modelfit(xgb_temp, df, useTrainCV=False)\n",
    "    \n",
    "    ##save model\n",
    "    joblib.dump(xgb_temp, name + \".joblib.dat\")\n",
    "    ##load model\n",
    "    #loaded_model = joblib.load(\"pima.joblib.dat\")\n",
    "    \n",
    "#     ##finish and plot\n",
    "#     plt.clf()\n",
    "#     fig = plt.figure(figsize=(10,6))\n",
    "#     feat_imp = pd.Series(xgb_temp._Booster.get_fscore()).sort_values(ascending=False)\n",
    "#     feat_imp.plot(kind='bar', title='Feature Importances')\n",
    "#     plt.ylabel('Feature Importance Score')\n",
    "#     plt.savefig('Plot/feature_ranking_' + name + '.pdf')\n",
    "    \n",
    "    return xgb_temp\n",
    "\n",
    "# Test performance on test set\n",
    "def evaluate(alg):\n",
    "    X_vr_temp = val_t.drop(\"Survived\", axis=1)\n",
    "    y_vr_temp = val_t[\"Survived\"]\n",
    "    vr_predictions = alg.predict(X_vr_temp)\n",
    "    vr_predprob    = alg.predict_proba(X_vr_temp)[:,1]\n",
    "        \n",
    "    #Print model report:\n",
    "    print(\"\\nModel Report\")\n",
    "    print(\"Test Accuracy : %.4g\" % metrics.accuracy_score(y_vr_temp.values, vr_predictions))\n",
    "    print(\"Test AUC Score (Test): %f\" % metrics.roc_auc_score(y_vr_temp, vr_predprob))\n",
    "    #Validation report"
   ]
  },
  {
   "cell_type": "code",
   "execution_count": 703,
   "metadata": {},
   "outputs": [
    {
     "name": "stdout",
     "output_type": "stream",
     "text": [
      "{'subsample': 0.5, 'reg_alpha': 0.25, 'n_estimators': 40, 'min_child_weight': 0.6, 'max_depth': 3, 'learning_rate': 0.001, 'gamma': 0.0070000000000000001, 'colsample_bytree': 0.6} 0.833568406206\n",
      "\n",
      "Model Report\n",
      "Train Accuracy : 0.8322\n",
      "Train AUC Score (Train): 0.885784\n",
      "Val Accuracy : 0.7975\n",
      "Val AUC Score (Val): 0.901596\n",
      "\n",
      "Model Report\n",
      "Test Accuracy : 0.8068\n",
      "Test AUC Score (Test): 0.893391\n"
     ]
    }
   ],
   "source": [
    "xgb_0 = training(train_t, name=\"xgb_0\", optimize=True)\n",
    "evaluate(xgb_0)"
   ]
  },
  {
   "cell_type": "code",
   "execution_count": 686,
   "metadata": {
    "scrolled": true
   },
   "outputs": [
    {
     "name": "stdout",
     "output_type": "stream",
     "text": [
      "\n",
      "Model Report\n",
      "Train Accuracy : 0.8505\n",
      "Train AUC Score (Train): 0.903201\n",
      "Val Accuracy : 0.8354\n",
      "Val AUC Score (Val): 0.919215\n",
      "\n",
      "Model Report\n",
      "Test Accuracy : 0.8182\n",
      "Test AUC Score (Test): 0.897989\n"
     ]
    }
   ],
   "source": [
    "xgb_0 = training(train_t, name=\"xgb_0\", optimize=False)\n",
    "evaluate(xgb_0)"
   ]
  },
  {
   "cell_type": "code",
   "execution_count": 702,
   "metadata": {},
   "outputs": [],
   "source": [
    "# Generate Submission File \n",
    "model = xgb_0\n",
    "predictions = model.predict(test)\n",
    "submit = pd.DataFrame({ 'PassengerId': PassengerId,\n",
    "                            'Survived': predictions })\n",
    "submit.head()\n",
    "submit.to_csv(\"Data/Submission.csv\", index=False)"
   ]
  },
  {
   "cell_type": "code",
   "execution_count": null,
   "metadata": {},
   "outputs": [],
   "source": []
  }
 ],
 "metadata": {
  "kernelspec": {
   "display_name": "Python 3",
   "language": "python",
   "name": "python3"
  },
  "language_info": {
   "codemirror_mode": {
    "name": "ipython",
    "version": 3
   },
   "file_extension": ".py",
   "mimetype": "text/x-python",
   "name": "python",
   "nbconvert_exporter": "python",
   "pygments_lexer": "ipython3",
   "version": "3.6.1"
  }
 },
 "nbformat": 4,
 "nbformat_minor": 2
}
